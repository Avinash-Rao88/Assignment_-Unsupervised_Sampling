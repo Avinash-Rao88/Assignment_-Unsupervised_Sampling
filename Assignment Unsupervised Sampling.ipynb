{
 "cells": [
  {
   "cell_type": "markdown",
   "id": "7c94cfe1",
   "metadata": {},
   "source": [
    "### Q.1: What is the difference between supervised and unsupervised machine learning "
   ]
  },
  {
   "cell_type": "markdown",
   "id": "133b7673",
   "metadata": {},
   "source": [
    "Supervised learning\n",
    "When an algorithm is trained on a labelled dataset—that is, when the input data used for training is paired with corresponding output labels—it is referred to as supervised learning. Supervised learning aims to find a mapping or relationship between the input variables and the desired output, which enables the algorithm to produce precise predictions or classifications when faced with fresh, unobserved data.\n",
    "\n",
    "An input-output pair training set is given to the algorithm during a supervised learning process. For every example in the training set, the algorithm iteratively modifies its parameters to minimize the discrepancy between its predicted output and the actual output (the ground truth). This procedure keeps going until the algorithm performs at an acceptable level. \n",
    "\n",
    "Supervised learning can be divided into two main types:\n",
    "\n",
    "1. Regression: In regression problems, the goal is to predict a continuous output or value. For example, predicting the price of a house based on its features, such as the number of bedrooms, square footage, and location.\n",
    "\n",
    "2. Classification: In classification problems, the goal is to assign input data to one of several predefined categories or classes. Examples include spam email detection, image classification (e.g., identifying whether an image contains a cat or a dog), and sentiment analysis.\n",
    "\n",
    "\n",
    "Supervised Learning Example:\n",
    "Suppose there is a basket which is filled with some fresh fruits, the task is to arrange the same type of fruits in one place. Also, suppose that the fruits are apple, banana, cherry, and grape. Suppose one already knows from their previous work (or experience) that, the shape of every fruit present in the basket so, it is easy for them to arrange the same type of fruits in one place. Here, the previous work is called training data in Data Mining terminology. So, it learns things from the training data. This is because it has a response variable that says y that if some fruit has so and so features then it is grape, and similarly for every fruit. This type of information is deciphered from the data that is used to train the model. This type of learning is called Supervised Learning. Such problems are listed under classical Classification Tasks. \n",
    "\n",
    "\n",
    "\n",
    "\n",
    "Unsupervised Learning\n",
    "Unsupervised learning is a type of machine learning where the algorithm is given input data without explicit instructions on what to do with it. In unsupervised learning, the algorithm tries to find patterns, structures, or relationships in the data without the guidance of labelled output.\n",
    "\n",
    "The main goal of unsupervised learning is often to explore the inherent structure within a set of data points. This can involve identifying clusters of similar data points, detecting outliers, reducing the dimensionality of the data, or discovering patterns and associations.\n",
    "\n",
    "There are several common types of unsupervised learning techniques:\n",
    "\n",
    "1. Clustering: Clustering algorithms aim to group similar data points into clusters based on some similarity metric. K-means clustering and hierarchical clustering are examples of unsupervised clustering techniques.\n",
    "\n",
    "2. Dimensionality Reduction: These techniques aim to reduce the number of features (or dimensions) in the data while preserving its essential information. Principal Component Analysis (PCA) and t-distributed Stochastic Neighbor Embedding (t-SNE) are examples of dimensionality reduction methods.\n",
    "\n",
    "3. Association: Association rule learning is used to discover interesting relationships or associations between variables in large datasets. The Apriori algorithm is a well-known example used for association rule learning.\n",
    "\n",
    "\n",
    "Unsupervised Learning example\n",
    "Again, Suppose there is a basket and it is filled with some fresh fruits. The task is to arrange the same type of fruits in one place. This time there is no information about those fruits beforehand, it’s the first time that the fruits are being seen or discovered So how to group similar fruits without any prior knowledge about them? First, any physical characteristic of a particular fruit is selected. Suppose colour. Then the fruits are arranged based on the color. \n",
    "The groups will be something as shown below: \n",
    "\n",
    "RED COLOR GROUP: apples & cherry fruits. \n",
    "GREEN COLOR GROUP: bananas & grapes. So now, take another physical character say, size, so now the groups will be something like this. \n",
    "RED COLOR AND BIG SIZE: apple. \n",
    "RED COLOR AND SMALL SIZE: cherry fruits. \n",
    "GREEN COLOR AND BIG SIZE: bananas. \n",
    "GREEN COLOR AND SMALL SIZE: grapes.\n",
    "\n",
    "\n",
    "\n",
    "\n",
    "Difference between Supervised and Unsupervised Learning\n",
    "The distinction between supervised and unsupervised learning depends on whether the learning algorithm uses pattern-class information. Supervised learning assumes the availability of a teacher or supervisor who classifies the training examples, whereas unsupervised learning must identify the pattern-class information as a part of the learning process.\n",
    "\n",
    "Supervised learning algorithms utilize the information on the class membership of each training instance. This information allows supervised learning algorithms to detect pattern misclassifications as feedback to themselves. In unsupervised learning algorithms, unlabeled instances are used. They blindly or heuristically process them. Unsupervised learning algorithms often have less computational complexity and less accuracy than supervised learning algorithms. "
   ]
  },
  {
   "cell_type": "code",
   "execution_count": null,
   "id": "03687965",
   "metadata": {},
   "outputs": [],
   "source": []
  },
  {
   "cell_type": "markdown",
   "id": "3ccba25d",
   "metadata": {},
   "source": [
    "### Q.2: Explain the concept of clustering using different methods in unsupervised learning "
   ]
  },
  {
   "cell_type": "markdown",
   "id": "b087ce88",
   "metadata": {},
   "source": [
    "Clustering: It is basically a type of unsupervised learning method. An unsupervised learning method is a method in which we draw references from datasets consisting of input data without labeled responses. Generally, it is used as a process to find meaningful structure, explanatory underlying processes, generative features, and groupings inherent in a set of examples. \n",
    "\n",
    "Clustering is the task of dividing the population or data points into a number of groups such that data points in the same groups are more similar to other data points in the same group and dissimilar to the data points in other groups. It is basically a collection of objects on the basis of similarity and dissimilarity between them. \n",
    "\n",
    "Clustering is very much important as it determines the intrinsic grouping among the unlabelled data present. There are no criteria for good clustering. It depends on the user, and what criteria they may use which satisfy their need. For instance, we could be interested in finding representatives for homogeneous groups (data reduction), finding “natural clusters” and describing their unknown properties (“natural” data types), in finding useful and suitable groupings (“useful” data classes) or in finding unusual data objects (outlier detection). This algorithm must make some assumptions that constitute the similarity of points and each assumption make different and equally valid clusters. \n",
    "\n",
    "\n",
    "\n",
    "Clustering Methods: \n",
    "\n",
    "Density-Based Methods: These methods consider the clusters as the dense region having some similarities and differences from the lower dense region of the space. These methods have good accuracy and the ability to merge two clusters. Example DBSCAN (Density-Based Spatial Clustering of Applications with Noise), OPTICS (Ordering Points to Identify Clustering Structure), etc.\n",
    "Hierarchical Based Methods: The clusters formed in this method form a tree-type structure based on the hierarchy. New clusters are formed using the previously formed one. It is divided into two category \n",
    "Agglomerative (bottom-up approach)\n",
    "Divisive (top-down approach)\n",
    "Examples CURE (Clustering Using Representatives), BIRCH (Balanced Iterative Reducing Clustering and using Hierarchies), etc.\n",
    "\n",
    "Partitioning Methods: These methods partition the objects into k clusters and each partition forms one cluster. This method is used to optimize an objective criterion similarity function such as when the distance is a major parameter example K-means, CLARANS (Clustering Large Applications based upon Randomized Search), etc.\n",
    "Grid-based Methods: In this method, the data space is formulated into a finite number of cells that form a grid-like structure. All the clustering operations done on these grids are fast and independent of the number of data objects example STING (Statistical Information Grid), wave cluster, CLIQUE (CLustering In Quest), etc.\n",
    "\n",
    "\n",
    "\n",
    "Clustering Algorithms: K-means clustering algorithm – It is the simplest unsupervised learning algorithm that solves clustering problem.K-means algorithm partitions n observations into k clusters where each observation belongs to the cluster with the nearest mean serving as a prototype of the cluster. \n",
    "\n",
    "\n",
    "\n",
    "Applications of Clustering in different fields:\n",
    "\n",
    "1. Marketing: It can be used to characterize & discover customer segments for marketing purposes.\n",
    "2. Biology: It can be used for classification among different species of plants and animals.\n",
    "3. Libraries: It is used in clustering different books on the basis of topics and information.\n",
    "4. Insurance: It is used to acknowledge the customers, their policies and identifying the frauds.\n",
    "5. City Planning: It is used to make groups of houses and to study their values based on their geographical locations and other factors present. \n",
    "6. Earthquake studies: By learning the earthquake-affected areas we can determine the dangerous zones. \n",
    "7. Image Processing: Clustering can be used to group similar images together, classify images based on content, and identify patterns in image data.\n",
    "8. Genetics: Clustering is used to group genes that have similar expression patterns and identify gene networks that work together in biological processes.\n",
    "9. Finance: Clustering is used to identify market segments based on customer behavior, identify patterns in stock market data, and analyze risk in investment portfolios.\n",
    "10. Customer Service: Clustering is used to group customer inquiries and complaints into categories, identify common issues, and develop targeted solutions.\n",
    "11. Manufacturing: Clustering is used to group similar products together, optimize production processes, and identify defects in manufacturing processes.\n",
    "12. Medical diagnosis: Clustering is used to group patients with similar symptoms or diseases, which helps in making accurate diagnoses and identifying effective treatments.\n",
    "13. Fraud detection: Clustering is used to identify suspicious patterns or anomalies in financial transactions, which can help in detecting fraud or other financial crimes.\n",
    "14. Traffic analysis: Clustering is used to group similar patterns of traffic data, such as peak hours, routes, and speeds, which can help in improving transportation planning and infrastructure.\n",
    "15. Social network analysis: Clustering is used to identify communities or groups within social networks, which can help in understanding social behavior, influence, and trends.\n",
    "16. Cybersecurity: Clustering is used to group similar patterns of network traffic or system behavior, which can help in detecting and preventing cyberattacks.\n",
    "17. Climate analysis: Clustering is used to group similar patterns of climate data, such as temperature, precipitation, and wind, which can help in understanding climate change and its impact on the environment.\n",
    "18. Sports analysis: Clustering is used to group similar patterns of player or team performance data, which can help in analyzing player or team strengths and weaknesses and making strategic decisions.\n",
    "19. Crime analysis: Clustering is used to group similar patterns of crime data, such as location, time, and type, which can help in identifying crime hotspots, predicting future crime trends, and improving crime prevention strategies."
   ]
  },
  {
   "cell_type": "code",
   "execution_count": null,
   "id": "3de3d508",
   "metadata": {},
   "outputs": [],
   "source": []
  },
  {
   "cell_type": "markdown",
   "id": "796296f7",
   "metadata": {},
   "source": [
    "### Q.3: Load the Customer_Churn dataset. a. Build the kmeans algorithm on top of ‘ customer features ’. For the model, the number of clusters should be 3 b. Calculate the clustering vector values for the monthly charges column form the customer_features c. Bind the monthly charges column to the clustering vector and store that data in month_group d. Separate all the 3 clusters with their values e. Write interference how k mean is different from KNN from above result "
   ]
  },
  {
   "cell_type": "code",
   "execution_count": 8,
   "id": "321947bf",
   "metadata": {},
   "outputs": [],
   "source": [
    "import pandas as pd\n",
    "import numpy as np\n",
    "import matplotlib.pyplot as plt\n",
    "import seaborn as sns\n",
    "\n",
    "import warnings\n",
    "warnings.filterwarnings('ignore')\n",
    "\n",
    "from sklearn.cluster import KMeans\n",
    "from sklearn.preprocessing import LabelEncoder\n",
    "from sklearn.preprocessing import StandardScaler\n",
    "from sklearn.model_selection import train_test_split\n",
    "from sklearn.neighbors import KNeighborsClassifier"
   ]
  },
  {
   "cell_type": "code",
   "execution_count": 9,
   "id": "545b66ab",
   "metadata": {},
   "outputs": [
    {
     "data": {
      "text/html": [
       "<div>\n",
       "<style scoped>\n",
       "    .dataframe tbody tr th:only-of-type {\n",
       "        vertical-align: middle;\n",
       "    }\n",
       "\n",
       "    .dataframe tbody tr th {\n",
       "        vertical-align: top;\n",
       "    }\n",
       "\n",
       "    .dataframe thead th {\n",
       "        text-align: right;\n",
       "    }\n",
       "</style>\n",
       "<table border=\"1\" class=\"dataframe\">\n",
       "  <thead>\n",
       "    <tr style=\"text-align: right;\">\n",
       "      <th></th>\n",
       "      <th>customerID</th>\n",
       "      <th>gender</th>\n",
       "      <th>SeniorCitizen</th>\n",
       "      <th>Partner</th>\n",
       "      <th>Dependents</th>\n",
       "      <th>tenure</th>\n",
       "      <th>PhoneService</th>\n",
       "      <th>MultipleLines</th>\n",
       "      <th>InternetService</th>\n",
       "      <th>OnlineSecurity</th>\n",
       "      <th>...</th>\n",
       "      <th>DeviceProtection</th>\n",
       "      <th>TechSupport</th>\n",
       "      <th>StreamingTV</th>\n",
       "      <th>StreamingMovies</th>\n",
       "      <th>Contract</th>\n",
       "      <th>PaperlessBilling</th>\n",
       "      <th>PaymentMethod</th>\n",
       "      <th>MonthlyCharges</th>\n",
       "      <th>TotalCharges</th>\n",
       "      <th>Churn</th>\n",
       "    </tr>\n",
       "  </thead>\n",
       "  <tbody>\n",
       "    <tr>\n",
       "      <th>0</th>\n",
       "      <td>7590-VHVEG</td>\n",
       "      <td>Female</td>\n",
       "      <td>0</td>\n",
       "      <td>Yes</td>\n",
       "      <td>No</td>\n",
       "      <td>1</td>\n",
       "      <td>No</td>\n",
       "      <td>No phone service</td>\n",
       "      <td>DSL</td>\n",
       "      <td>No</td>\n",
       "      <td>...</td>\n",
       "      <td>No</td>\n",
       "      <td>No</td>\n",
       "      <td>No</td>\n",
       "      <td>No</td>\n",
       "      <td>Month-to-month</td>\n",
       "      <td>Yes</td>\n",
       "      <td>Electronic check</td>\n",
       "      <td>29.85</td>\n",
       "      <td>29.85</td>\n",
       "      <td>No</td>\n",
       "    </tr>\n",
       "    <tr>\n",
       "      <th>1</th>\n",
       "      <td>5575-GNVDE</td>\n",
       "      <td>Male</td>\n",
       "      <td>0</td>\n",
       "      <td>No</td>\n",
       "      <td>No</td>\n",
       "      <td>34</td>\n",
       "      <td>Yes</td>\n",
       "      <td>No</td>\n",
       "      <td>DSL</td>\n",
       "      <td>Yes</td>\n",
       "      <td>...</td>\n",
       "      <td>Yes</td>\n",
       "      <td>No</td>\n",
       "      <td>No</td>\n",
       "      <td>No</td>\n",
       "      <td>One year</td>\n",
       "      <td>No</td>\n",
       "      <td>Mailed check</td>\n",
       "      <td>56.95</td>\n",
       "      <td>1889.5</td>\n",
       "      <td>No</td>\n",
       "    </tr>\n",
       "    <tr>\n",
       "      <th>2</th>\n",
       "      <td>3668-QPYBK</td>\n",
       "      <td>Male</td>\n",
       "      <td>0</td>\n",
       "      <td>No</td>\n",
       "      <td>No</td>\n",
       "      <td>2</td>\n",
       "      <td>Yes</td>\n",
       "      <td>No</td>\n",
       "      <td>DSL</td>\n",
       "      <td>Yes</td>\n",
       "      <td>...</td>\n",
       "      <td>No</td>\n",
       "      <td>No</td>\n",
       "      <td>No</td>\n",
       "      <td>No</td>\n",
       "      <td>Month-to-month</td>\n",
       "      <td>Yes</td>\n",
       "      <td>Mailed check</td>\n",
       "      <td>53.85</td>\n",
       "      <td>108.15</td>\n",
       "      <td>Yes</td>\n",
       "    </tr>\n",
       "    <tr>\n",
       "      <th>3</th>\n",
       "      <td>7795-CFOCW</td>\n",
       "      <td>Male</td>\n",
       "      <td>0</td>\n",
       "      <td>No</td>\n",
       "      <td>No</td>\n",
       "      <td>45</td>\n",
       "      <td>No</td>\n",
       "      <td>No phone service</td>\n",
       "      <td>DSL</td>\n",
       "      <td>Yes</td>\n",
       "      <td>...</td>\n",
       "      <td>Yes</td>\n",
       "      <td>Yes</td>\n",
       "      <td>No</td>\n",
       "      <td>No</td>\n",
       "      <td>One year</td>\n",
       "      <td>No</td>\n",
       "      <td>Bank transfer (automatic)</td>\n",
       "      <td>42.30</td>\n",
       "      <td>1840.75</td>\n",
       "      <td>No</td>\n",
       "    </tr>\n",
       "    <tr>\n",
       "      <th>4</th>\n",
       "      <td>9237-HQITU</td>\n",
       "      <td>Female</td>\n",
       "      <td>0</td>\n",
       "      <td>No</td>\n",
       "      <td>No</td>\n",
       "      <td>2</td>\n",
       "      <td>Yes</td>\n",
       "      <td>No</td>\n",
       "      <td>Fiber optic</td>\n",
       "      <td>No</td>\n",
       "      <td>...</td>\n",
       "      <td>No</td>\n",
       "      <td>No</td>\n",
       "      <td>No</td>\n",
       "      <td>No</td>\n",
       "      <td>Month-to-month</td>\n",
       "      <td>Yes</td>\n",
       "      <td>Electronic check</td>\n",
       "      <td>70.70</td>\n",
       "      <td>151.65</td>\n",
       "      <td>Yes</td>\n",
       "    </tr>\n",
       "  </tbody>\n",
       "</table>\n",
       "<p>5 rows × 21 columns</p>\n",
       "</div>"
      ],
      "text/plain": [
       "   customerID  gender  SeniorCitizen Partner Dependents  tenure PhoneService  \\\n",
       "0  7590-VHVEG  Female              0     Yes         No       1           No   \n",
       "1  5575-GNVDE    Male              0      No         No      34          Yes   \n",
       "2  3668-QPYBK    Male              0      No         No       2          Yes   \n",
       "3  7795-CFOCW    Male              0      No         No      45           No   \n",
       "4  9237-HQITU  Female              0      No         No       2          Yes   \n",
       "\n",
       "      MultipleLines InternetService OnlineSecurity  ... DeviceProtection  \\\n",
       "0  No phone service             DSL             No  ...               No   \n",
       "1                No             DSL            Yes  ...              Yes   \n",
       "2                No             DSL            Yes  ...               No   \n",
       "3  No phone service             DSL            Yes  ...              Yes   \n",
       "4                No     Fiber optic             No  ...               No   \n",
       "\n",
       "  TechSupport StreamingTV StreamingMovies        Contract PaperlessBilling  \\\n",
       "0          No          No              No  Month-to-month              Yes   \n",
       "1          No          No              No        One year               No   \n",
       "2          No          No              No  Month-to-month              Yes   \n",
       "3         Yes          No              No        One year               No   \n",
       "4          No          No              No  Month-to-month              Yes   \n",
       "\n",
       "               PaymentMethod MonthlyCharges  TotalCharges Churn  \n",
       "0           Electronic check          29.85         29.85    No  \n",
       "1               Mailed check          56.95        1889.5    No  \n",
       "2               Mailed check          53.85        108.15   Yes  \n",
       "3  Bank transfer (automatic)          42.30       1840.75    No  \n",
       "4           Electronic check          70.70        151.65   Yes  \n",
       "\n",
       "[5 rows x 21 columns]"
      ]
     },
     "execution_count": 9,
     "metadata": {},
     "output_type": "execute_result"
    }
   ],
   "source": [
    "df = pd.read_csv(\"customer_churn.csv\")\n",
    "df.head()"
   ]
  },
  {
   "cell_type": "code",
   "execution_count": 3,
   "id": "9beef20c",
   "metadata": {},
   "outputs": [
    {
     "data": {
      "text/plain": [
       "<bound method DataFrame.info of       customerID  gender  SeniorCitizen Partner Dependents  tenure  \\\n",
       "0     7590-VHVEG  Female              0     Yes         No       1   \n",
       "1     5575-GNVDE    Male              0      No         No      34   \n",
       "2     3668-QPYBK    Male              0      No         No       2   \n",
       "3     7795-CFOCW    Male              0      No         No      45   \n",
       "4     9237-HQITU  Female              0      No         No       2   \n",
       "...          ...     ...            ...     ...        ...     ...   \n",
       "7038  6840-RESVB    Male              0     Yes        Yes      24   \n",
       "7039  2234-XADUH  Female              0     Yes        Yes      72   \n",
       "7040  4801-JZAZL  Female              0     Yes        Yes      11   \n",
       "7041  8361-LTMKD    Male              1     Yes         No       4   \n",
       "7042  3186-AJIEK    Male              0      No         No      66   \n",
       "\n",
       "     PhoneService     MultipleLines InternetService OnlineSecurity  ...  \\\n",
       "0              No  No phone service             DSL             No  ...   \n",
       "1             Yes                No             DSL            Yes  ...   \n",
       "2             Yes                No             DSL            Yes  ...   \n",
       "3              No  No phone service             DSL            Yes  ...   \n",
       "4             Yes                No     Fiber optic             No  ...   \n",
       "...           ...               ...             ...            ...  ...   \n",
       "7038          Yes               Yes             DSL            Yes  ...   \n",
       "7039          Yes               Yes     Fiber optic             No  ...   \n",
       "7040           No  No phone service             DSL            Yes  ...   \n",
       "7041          Yes               Yes     Fiber optic             No  ...   \n",
       "7042          Yes                No     Fiber optic            Yes  ...   \n",
       "\n",
       "     DeviceProtection TechSupport StreamingTV StreamingMovies        Contract  \\\n",
       "0                  No          No          No              No  Month-to-month   \n",
       "1                 Yes          No          No              No        One year   \n",
       "2                  No          No          No              No  Month-to-month   \n",
       "3                 Yes         Yes          No              No        One year   \n",
       "4                  No          No          No              No  Month-to-month   \n",
       "...               ...         ...         ...             ...             ...   \n",
       "7038              Yes         Yes         Yes             Yes        One year   \n",
       "7039              Yes          No         Yes             Yes        One year   \n",
       "7040               No          No          No              No  Month-to-month   \n",
       "7041               No          No          No              No  Month-to-month   \n",
       "7042              Yes         Yes         Yes             Yes        Two year   \n",
       "\n",
       "     PaperlessBilling              PaymentMethod MonthlyCharges  TotalCharges  \\\n",
       "0                 Yes           Electronic check          29.85         29.85   \n",
       "1                  No               Mailed check          56.95        1889.5   \n",
       "2                 Yes               Mailed check          53.85        108.15   \n",
       "3                  No  Bank transfer (automatic)          42.30       1840.75   \n",
       "4                 Yes           Electronic check          70.70        151.65   \n",
       "...               ...                        ...            ...           ...   \n",
       "7038              Yes               Mailed check          84.80        1990.5   \n",
       "7039              Yes    Credit card (automatic)         103.20        7362.9   \n",
       "7040              Yes           Electronic check          29.60        346.45   \n",
       "7041              Yes               Mailed check          74.40         306.6   \n",
       "7042              Yes  Bank transfer (automatic)         105.65        6844.5   \n",
       "\n",
       "     Churn  \n",
       "0       No  \n",
       "1       No  \n",
       "2      Yes  \n",
       "3       No  \n",
       "4      Yes  \n",
       "...    ...  \n",
       "7038    No  \n",
       "7039    No  \n",
       "7040    No  \n",
       "7041   Yes  \n",
       "7042    No  \n",
       "\n",
       "[7043 rows x 21 columns]>"
      ]
     },
     "execution_count": 3,
     "metadata": {},
     "output_type": "execute_result"
    }
   ],
   "source": [
    "df.info"
   ]
  },
  {
   "cell_type": "code",
   "execution_count": 4,
   "id": "4ef9065b",
   "metadata": {},
   "outputs": [
    {
     "data": {
      "text/plain": [
       "(7043, 21)"
      ]
     },
     "execution_count": 4,
     "metadata": {},
     "output_type": "execute_result"
    }
   ],
   "source": [
    "df.shape"
   ]
  },
  {
   "cell_type": "code",
   "execution_count": 5,
   "id": "bd1aa571",
   "metadata": {},
   "outputs": [
    {
     "data": {
      "text/plain": [
       "gender\n",
       "Male      3555\n",
       "Female    3488\n",
       "Name: count, dtype: int64"
      ]
     },
     "execution_count": 5,
     "metadata": {},
     "output_type": "execute_result"
    }
   ],
   "source": [
    "df['gender'].value_counts()"
   ]
  },
  {
   "cell_type": "code",
   "execution_count": 6,
   "id": "af043d1c",
   "metadata": {},
   "outputs": [
    {
     "data": {
      "text/plain": [
       "SeniorCitizen\n",
       "0    5901\n",
       "1    1142\n",
       "Name: count, dtype: int64"
      ]
     },
     "execution_count": 6,
     "metadata": {},
     "output_type": "execute_result"
    }
   ],
   "source": [
    "df['SeniorCitizen'].value_counts()"
   ]
  },
  {
   "cell_type": "code",
   "execution_count": 7,
   "id": "e38a3855",
   "metadata": {},
   "outputs": [
    {
     "data": {
      "text/plain": [
       "Dependents\n",
       "No     4933\n",
       "Yes    2110\n",
       "Name: count, dtype: int64"
      ]
     },
     "execution_count": 7,
     "metadata": {},
     "output_type": "execute_result"
    }
   ],
   "source": [
    "df['Dependents'].value_counts()"
   ]
  },
  {
   "cell_type": "code",
   "execution_count": 8,
   "id": "bf600313",
   "metadata": {},
   "outputs": [
    {
     "data": {
      "text/plain": [
       "PhoneService\n",
       "Yes    6361\n",
       "No      682\n",
       "Name: count, dtype: int64"
      ]
     },
     "execution_count": 8,
     "metadata": {},
     "output_type": "execute_result"
    }
   ],
   "source": [
    "df['PhoneService'].value_counts()"
   ]
  },
  {
   "cell_type": "code",
   "execution_count": 9,
   "id": "a8f0dced",
   "metadata": {},
   "outputs": [
    {
     "data": {
      "text/plain": [
       "MultipleLines\n",
       "No                  3390\n",
       "Yes                 2971\n",
       "No phone service     682\n",
       "Name: count, dtype: int64"
      ]
     },
     "execution_count": 9,
     "metadata": {},
     "output_type": "execute_result"
    }
   ],
   "source": [
    "df['MultipleLines'].value_counts()"
   ]
  },
  {
   "cell_type": "code",
   "execution_count": 10,
   "id": "cb0e6f65",
   "metadata": {},
   "outputs": [
    {
     "data": {
      "text/plain": [
       "InternetService\n",
       "Fiber optic    3096\n",
       "DSL            2421\n",
       "No             1526\n",
       "Name: count, dtype: int64"
      ]
     },
     "execution_count": 10,
     "metadata": {},
     "output_type": "execute_result"
    }
   ],
   "source": [
    "df['InternetService'].value_counts()"
   ]
  },
  {
   "cell_type": "code",
   "execution_count": 11,
   "id": "b14cb956",
   "metadata": {},
   "outputs": [
    {
     "data": {
      "text/plain": [
       "Contract\n",
       "Month-to-month    3875\n",
       "Two year          1695\n",
       "One year          1473\n",
       "Name: count, dtype: int64"
      ]
     },
     "execution_count": 11,
     "metadata": {},
     "output_type": "execute_result"
    }
   ],
   "source": [
    "df['Contract'].value_counts()"
   ]
  },
  {
   "cell_type": "code",
   "execution_count": 12,
   "id": "0053b16a",
   "metadata": {},
   "outputs": [
    {
     "data": {
      "text/plain": [
       "PaymentMethod\n",
       "Electronic check             2365\n",
       "Mailed check                 1612\n",
       "Bank transfer (automatic)    1544\n",
       "Credit card (automatic)      1522\n",
       "Name: count, dtype: int64"
      ]
     },
     "execution_count": 12,
     "metadata": {},
     "output_type": "execute_result"
    }
   ],
   "source": [
    "df['PaymentMethod'].value_counts()"
   ]
  },
  {
   "cell_type": "code",
   "execution_count": 13,
   "id": "8e24f965",
   "metadata": {},
   "outputs": [
    {
     "data": {
      "text/plain": [
       "Churn\n",
       "No     5174\n",
       "Yes    1869\n",
       "Name: count, dtype: int64"
      ]
     },
     "execution_count": 13,
     "metadata": {},
     "output_type": "execute_result"
    }
   ],
   "source": [
    "df['Churn'].value_counts()"
   ]
  },
  {
   "cell_type": "code",
   "execution_count": 14,
   "id": "1f479f69",
   "metadata": {},
   "outputs": [
    {
     "data": {
      "text/plain": [
       "customerID          0\n",
       "gender              0\n",
       "SeniorCitizen       0\n",
       "Partner             0\n",
       "Dependents          0\n",
       "tenure              0\n",
       "PhoneService        0\n",
       "MultipleLines       0\n",
       "InternetService     0\n",
       "OnlineSecurity      0\n",
       "OnlineBackup        0\n",
       "DeviceProtection    0\n",
       "TechSupport         0\n",
       "StreamingTV         0\n",
       "StreamingMovies     0\n",
       "Contract            0\n",
       "PaperlessBilling    0\n",
       "PaymentMethod       0\n",
       "MonthlyCharges      0\n",
       "TotalCharges        0\n",
       "Churn               0\n",
       "dtype: int64"
      ]
     },
     "execution_count": 14,
     "metadata": {},
     "output_type": "execute_result"
    }
   ],
   "source": [
    "df.isnull().sum()"
   ]
  },
  {
   "cell_type": "code",
   "execution_count": 15,
   "id": "8f3ad32a",
   "metadata": {},
   "outputs": [
    {
     "data": {
      "text/html": [
       "<div>\n",
       "<style scoped>\n",
       "    .dataframe tbody tr th:only-of-type {\n",
       "        vertical-align: middle;\n",
       "    }\n",
       "\n",
       "    .dataframe tbody tr th {\n",
       "        vertical-align: top;\n",
       "    }\n",
       "\n",
       "    .dataframe thead th {\n",
       "        text-align: right;\n",
       "    }\n",
       "</style>\n",
       "<table border=\"1\" class=\"dataframe\">\n",
       "  <thead>\n",
       "    <tr style=\"text-align: right;\">\n",
       "      <th></th>\n",
       "      <th>gender</th>\n",
       "      <th>SeniorCitizen</th>\n",
       "      <th>Partner</th>\n",
       "      <th>Dependents</th>\n",
       "      <th>tenure</th>\n",
       "      <th>PhoneService</th>\n",
       "      <th>MultipleLines</th>\n",
       "      <th>InternetService</th>\n",
       "      <th>OnlineSecurity</th>\n",
       "      <th>OnlineBackup</th>\n",
       "      <th>DeviceProtection</th>\n",
       "      <th>TechSupport</th>\n",
       "      <th>StreamingTV</th>\n",
       "      <th>StreamingMovies</th>\n",
       "      <th>Contract</th>\n",
       "      <th>PaperlessBilling</th>\n",
       "      <th>PaymentMethod</th>\n",
       "      <th>MonthlyCharges</th>\n",
       "      <th>TotalCharges</th>\n",
       "      <th>Churn</th>\n",
       "    </tr>\n",
       "  </thead>\n",
       "  <tbody>\n",
       "    <tr>\n",
       "      <th>0</th>\n",
       "      <td>Female</td>\n",
       "      <td>0</td>\n",
       "      <td>Yes</td>\n",
       "      <td>No</td>\n",
       "      <td>1</td>\n",
       "      <td>No</td>\n",
       "      <td>No phone service</td>\n",
       "      <td>DSL</td>\n",
       "      <td>No</td>\n",
       "      <td>Yes</td>\n",
       "      <td>No</td>\n",
       "      <td>No</td>\n",
       "      <td>No</td>\n",
       "      <td>No</td>\n",
       "      <td>Month-to-month</td>\n",
       "      <td>Yes</td>\n",
       "      <td>Electronic check</td>\n",
       "      <td>29.85</td>\n",
       "      <td>29.85</td>\n",
       "      <td>No</td>\n",
       "    </tr>\n",
       "    <tr>\n",
       "      <th>1</th>\n",
       "      <td>Male</td>\n",
       "      <td>0</td>\n",
       "      <td>No</td>\n",
       "      <td>No</td>\n",
       "      <td>34</td>\n",
       "      <td>Yes</td>\n",
       "      <td>No</td>\n",
       "      <td>DSL</td>\n",
       "      <td>Yes</td>\n",
       "      <td>No</td>\n",
       "      <td>Yes</td>\n",
       "      <td>No</td>\n",
       "      <td>No</td>\n",
       "      <td>No</td>\n",
       "      <td>One year</td>\n",
       "      <td>No</td>\n",
       "      <td>Mailed check</td>\n",
       "      <td>56.95</td>\n",
       "      <td>1889.5</td>\n",
       "      <td>No</td>\n",
       "    </tr>\n",
       "    <tr>\n",
       "      <th>2</th>\n",
       "      <td>Male</td>\n",
       "      <td>0</td>\n",
       "      <td>No</td>\n",
       "      <td>No</td>\n",
       "      <td>2</td>\n",
       "      <td>Yes</td>\n",
       "      <td>No</td>\n",
       "      <td>DSL</td>\n",
       "      <td>Yes</td>\n",
       "      <td>Yes</td>\n",
       "      <td>No</td>\n",
       "      <td>No</td>\n",
       "      <td>No</td>\n",
       "      <td>No</td>\n",
       "      <td>Month-to-month</td>\n",
       "      <td>Yes</td>\n",
       "      <td>Mailed check</td>\n",
       "      <td>53.85</td>\n",
       "      <td>108.15</td>\n",
       "      <td>Yes</td>\n",
       "    </tr>\n",
       "    <tr>\n",
       "      <th>3</th>\n",
       "      <td>Male</td>\n",
       "      <td>0</td>\n",
       "      <td>No</td>\n",
       "      <td>No</td>\n",
       "      <td>45</td>\n",
       "      <td>No</td>\n",
       "      <td>No phone service</td>\n",
       "      <td>DSL</td>\n",
       "      <td>Yes</td>\n",
       "      <td>No</td>\n",
       "      <td>Yes</td>\n",
       "      <td>Yes</td>\n",
       "      <td>No</td>\n",
       "      <td>No</td>\n",
       "      <td>One year</td>\n",
       "      <td>No</td>\n",
       "      <td>Bank transfer (automatic)</td>\n",
       "      <td>42.30</td>\n",
       "      <td>1840.75</td>\n",
       "      <td>No</td>\n",
       "    </tr>\n",
       "    <tr>\n",
       "      <th>4</th>\n",
       "      <td>Female</td>\n",
       "      <td>0</td>\n",
       "      <td>No</td>\n",
       "      <td>No</td>\n",
       "      <td>2</td>\n",
       "      <td>Yes</td>\n",
       "      <td>No</td>\n",
       "      <td>Fiber optic</td>\n",
       "      <td>No</td>\n",
       "      <td>No</td>\n",
       "      <td>No</td>\n",
       "      <td>No</td>\n",
       "      <td>No</td>\n",
       "      <td>No</td>\n",
       "      <td>Month-to-month</td>\n",
       "      <td>Yes</td>\n",
       "      <td>Electronic check</td>\n",
       "      <td>70.70</td>\n",
       "      <td>151.65</td>\n",
       "      <td>Yes</td>\n",
       "    </tr>\n",
       "  </tbody>\n",
       "</table>\n",
       "</div>"
      ],
      "text/plain": [
       "   gender  SeniorCitizen Partner Dependents  tenure PhoneService  \\\n",
       "0  Female              0     Yes         No       1           No   \n",
       "1    Male              0      No         No      34          Yes   \n",
       "2    Male              0      No         No       2          Yes   \n",
       "3    Male              0      No         No      45           No   \n",
       "4  Female              0      No         No       2          Yes   \n",
       "\n",
       "      MultipleLines InternetService OnlineSecurity OnlineBackup  \\\n",
       "0  No phone service             DSL             No          Yes   \n",
       "1                No             DSL            Yes           No   \n",
       "2                No             DSL            Yes          Yes   \n",
       "3  No phone service             DSL            Yes           No   \n",
       "4                No     Fiber optic             No           No   \n",
       "\n",
       "  DeviceProtection TechSupport StreamingTV StreamingMovies        Contract  \\\n",
       "0               No          No          No              No  Month-to-month   \n",
       "1              Yes          No          No              No        One year   \n",
       "2               No          No          No              No  Month-to-month   \n",
       "3              Yes         Yes          No              No        One year   \n",
       "4               No          No          No              No  Month-to-month   \n",
       "\n",
       "  PaperlessBilling              PaymentMethod  MonthlyCharges TotalCharges  \\\n",
       "0              Yes           Electronic check           29.85        29.85   \n",
       "1               No               Mailed check           56.95       1889.5   \n",
       "2              Yes               Mailed check           53.85       108.15   \n",
       "3               No  Bank transfer (automatic)           42.30      1840.75   \n",
       "4              Yes           Electronic check           70.70       151.65   \n",
       "\n",
       "  Churn  \n",
       "0    No  \n",
       "1    No  \n",
       "2   Yes  \n",
       "3    No  \n",
       "4   Yes  "
      ]
     },
     "execution_count": 15,
     "metadata": {},
     "output_type": "execute_result"
    }
   ],
   "source": [
    "df = df.drop([\"customerID\"], axis = 1)\n",
    "df.head()"
   ]
  },
  {
   "cell_type": "markdown",
   "id": "1aa684cd",
   "metadata": {},
   "source": [
    "### a. Build the kmeans algorithm on top of ‘ customer features ’. For the model, the number of clusters should be 3 b. Calculate the clustering vector values for the monthly charges column form the customer_features "
   ]
  },
  {
   "cell_type": "code",
   "execution_count": 5,
   "id": "bd0bb6cb",
   "metadata": {},
   "outputs": [
    {
     "data": {
      "image/png": "[encoded data removed]",
      "text/plain": [
       "<Figure size 1000x600 with 1 Axes>"
      ]
     },
     "metadata": {},
     "output_type": "display_data"
    },
    {
     "name": "stdout",
     "output_type": "stream",
     "text": [
      "Clustering Vector Values for Monthly Charges:\n",
      "   Cluster  MonthlyCharges\n",
      "0        0       61.628808\n",
      "1        1       94.054258\n",
      "2        2       23.384619\n"
     ]
    }
   ],
   "source": [
    "label_encoder = LabelEncoder()\n",
    "df['Churn'] = label_encoder.fit_transform(df['Churn'])\n",
    "\n",
    "X = df[['MonthlyCharges', 'Churn']]\n",
    "kmeans = KMeans(n_clusters=3, random_state=42)\n",
    "df['Cluster'] = kmeans.fit_predict(X)\n",
    "monthly_charges_cluster = df.groupby('Cluster')['MonthlyCharges'].mean().reset_index()\n",
    "plt.figure(figsize=(10, 6))\n",
    "plt.scatter(X['MonthlyCharges'], X['Churn'], c=df['Cluster'], cmap='viridis')\n",
    "plt.title('K-Means Clustering (3 clusters)')\n",
    "plt.xlabel('MonthlyCharges')\n",
    "plt.ylabel('Churn')\n",
    "plt.show()\n",
    "print('Clustering Vector Values for Monthly Charges:')\n",
    "print(monthly_charges_cluster)"
   ]
  },
  {
   "cell_type": "markdown",
   "id": "7f084157",
   "metadata": {},
   "source": [
    "### c. Bind the monthly charges column to the clustering vector and store that data in month_group "
   ]
  },
  {
   "cell_type": "code",
   "execution_count": 6,
   "id": "032ccd2e",
   "metadata": {},
   "outputs": [
    {
     "name": "stdout",
     "output_type": "stream",
     "text": [
      "   MonthlyCharges  Cluster      month_group\n",
      "0           29.85        2  29.85_Cluster_2\n",
      "1           56.95        0  56.95_Cluster_0\n",
      "2           53.85        0  53.85_Cluster_0\n",
      "3           42.30        2   42.3_Cluster_2\n",
      "4           70.70        0   70.7_Cluster_0\n"
     ]
    }
   ],
   "source": [
    "df['month_group'] = df['MonthlyCharges'].astype(str) + '_Cluster_' + df['Cluster'].astype(str)\n",
    "print(df[['MonthlyCharges', 'Cluster', 'month_group']].head())"
   ]
  },
  {
   "cell_type": "markdown",
   "id": "ea2889ab",
   "metadata": {},
   "source": [
    "### d. Separate all the 3 clusters with their values "
   ]
  },
  {
   "cell_type": "code",
   "execution_count": 7,
   "id": "58d6fd41",
   "metadata": {},
   "outputs": [
    {
     "name": "stdout",
     "output_type": "stream",
     "text": [
      "Cluster 0:\n",
      "    customerID  gender  SeniorCitizen Partner Dependents  tenure PhoneService  \\\n",
      "1   5575-GNVDE    Male              0      No         No      34          Yes   \n",
      "2   3668-QPYBK    Male              0      No         No       2          Yes   \n",
      "4   9237-HQITU  Female              0      No         No       2          Yes   \n",
      "9   6388-TABGU    Male              0      No        Yes      62          Yes   \n",
      "10  9763-GRSKD    Male              0     Yes        Yes      13          Yes   \n",
      "\n",
      "   MultipleLines InternetService OnlineSecurity  ... StreamingTV  \\\n",
      "1             No             DSL            Yes  ...          No   \n",
      "2             No             DSL            Yes  ...          No   \n",
      "4             No     Fiber optic             No  ...          No   \n",
      "9             No             DSL            Yes  ...          No   \n",
      "10            No             DSL            Yes  ...          No   \n",
      "\n",
      "   StreamingMovies        Contract PaperlessBilling  \\\n",
      "1               No        One year               No   \n",
      "2               No  Month-to-month              Yes   \n",
      "4               No  Month-to-month              Yes   \n",
      "9               No        One year               No   \n",
      "10              No  Month-to-month              Yes   \n",
      "\n",
      "                PaymentMethod MonthlyCharges TotalCharges Churn  Cluster  \\\n",
      "1                Mailed check          56.95       1889.5     0        0   \n",
      "2                Mailed check          53.85       108.15     1        0   \n",
      "4            Electronic check          70.70       151.65     1        0   \n",
      "9   Bank transfer (automatic)          56.15      3487.95     0        0   \n",
      "10               Mailed check          49.95       587.45     0        0   \n",
      "\n",
      "        month_group  \n",
      "1   56.95_Cluster_0  \n",
      "2   53.85_Cluster_0  \n",
      "4    70.7_Cluster_0  \n",
      "9   56.15_Cluster_0  \n",
      "10  49.95_Cluster_0  \n",
      "\n",
      "[5 rows x 23 columns]\n",
      "\n",
      "Cluster 1:\n",
      "    customerID  gender  SeniorCitizen Partner Dependents  tenure PhoneService  \\\n",
      "5   9305-CDSKC  Female              0      No         No       8          Yes   \n",
      "6   1452-KIOVK    Male              0      No        Yes      22          Yes   \n",
      "8   7892-POOKP  Female              0     Yes         No      28          Yes   \n",
      "12  8091-TTVAX    Male              0     Yes         No      58          Yes   \n",
      "13  0280-XJGEX    Male              0      No         No      49          Yes   \n",
      "\n",
      "   MultipleLines InternetService OnlineSecurity  ... StreamingTV  \\\n",
      "5            Yes     Fiber optic             No  ...         Yes   \n",
      "6            Yes     Fiber optic             No  ...         Yes   \n",
      "8            Yes     Fiber optic             No  ...         Yes   \n",
      "12           Yes     Fiber optic             No  ...         Yes   \n",
      "13           Yes     Fiber optic             No  ...         Yes   \n",
      "\n",
      "   StreamingMovies        Contract PaperlessBilling  \\\n",
      "5              Yes  Month-to-month              Yes   \n",
      "6               No  Month-to-month              Yes   \n",
      "8              Yes  Month-to-month              Yes   \n",
      "12             Yes        One year               No   \n",
      "13             Yes  Month-to-month              Yes   \n",
      "\n",
      "                PaymentMethod MonthlyCharges TotalCharges Churn  Cluster  \\\n",
      "5            Electronic check          99.65        820.5     1        1   \n",
      "6     Credit card (automatic)          89.10       1949.4     0        1   \n",
      "8            Electronic check         104.80      3046.05     1        1   \n",
      "12    Credit card (automatic)         100.35       5681.1     0        1   \n",
      "13  Bank transfer (automatic)         103.70       5036.3     1        1   \n",
      "\n",
      "         month_group  \n",
      "5    99.65_Cluster_1  \n",
      "6     89.1_Cluster_1  \n",
      "8    104.8_Cluster_1  \n",
      "12  100.35_Cluster_1  \n",
      "13   103.7_Cluster_1  \n",
      "\n",
      "[5 rows x 23 columns]\n",
      "\n",
      "Cluster 2:\n",
      "    customerID  gender  SeniorCitizen Partner Dependents  tenure PhoneService  \\\n",
      "0   7590-VHVEG  Female              0     Yes         No       1           No   \n",
      "3   7795-CFOCW    Male              0      No         No      45           No   \n",
      "7   6713-OKOMC  Female              0      No         No      10           No   \n",
      "11  7469-LKBCI    Male              0      No         No      16          Yes   \n",
      "16  8191-XWSZG  Female              0      No         No      52          Yes   \n",
      "\n",
      "       MultipleLines InternetService       OnlineSecurity  ...  \\\n",
      "0   No phone service             DSL                   No  ...   \n",
      "3   No phone service             DSL                  Yes  ...   \n",
      "7   No phone service             DSL                  Yes  ...   \n",
      "11                No              No  No internet service  ...   \n",
      "16                No              No  No internet service  ...   \n",
      "\n",
      "            StreamingTV      StreamingMovies        Contract PaperlessBilling  \\\n",
      "0                    No                   No  Month-to-month              Yes   \n",
      "3                    No                   No        One year               No   \n",
      "7                    No                   No  Month-to-month               No   \n",
      "11  No internet service  No internet service        Two year               No   \n",
      "16  No internet service  No internet service        One year               No   \n",
      "\n",
      "                PaymentMethod MonthlyCharges TotalCharges Churn  Cluster  \\\n",
      "0            Electronic check          29.85        29.85     0        2   \n",
      "3   Bank transfer (automatic)          42.30      1840.75     0        2   \n",
      "7                Mailed check          29.75        301.9     0        2   \n",
      "11    Credit card (automatic)          18.95        326.8     0        2   \n",
      "16               Mailed check          20.65      1022.95     0        2   \n",
      "\n",
      "        month_group  \n",
      "0   29.85_Cluster_2  \n",
      "3    42.3_Cluster_2  \n",
      "7   29.75_Cluster_2  \n",
      "11  18.95_Cluster_2  \n",
      "16  20.65_Cluster_2  \n",
      "\n",
      "[5 rows x 23 columns]\n"
     ]
    }
   ],
   "source": [
    "cluster_0 = df[df['Cluster'] == 0]\n",
    "cluster_1 = df[df['Cluster'] == 1]\n",
    "cluster_2 = df[df['Cluster'] == 2]\n",
    "\n",
    "print('Cluster 0:')\n",
    "print(cluster_0.head())\n",
    "\n",
    "print('\\nCluster 1:')\n",
    "print(cluster_1.head())\n",
    "\n",
    "print('\\nCluster 2:')\n",
    "print(cluster_2.head())"
   ]
  },
  {
   "cell_type": "markdown",
   "id": "c4d8035d",
   "metadata": {},
   "source": [
    "### e. Write interference how k mean is different from KNN from above result "
   ]
  },
  {
   "cell_type": "markdown",
   "id": "d94f9778",
   "metadata": {},
   "source": [
    "\n",
    "K-Means (k-means clustering) and K-NN (k-nearest neighbors) are distinct machine learning algorithms with different purposes and methodologies:\n",
    "\n",
    "K-Means (k-means clustering):\n",
    "\n",
    "Objective: The primary goal of K-Means is to partition data points into distinct groups (clusters) based on their features.\n",
    "Unsupervised Learning: K-Means is an unsupervised learning algorithm, meaning it doesn't require labeled data.\n",
    "Clustering: It is used for clustering similar data points together without any predefined class labels.\n",
    "Centroid-Based: It works by iteratively assigning data points to clusters based on the similarity of features and updating the cluster centroids.\n",
    "\n",
    "\n",
    "\n",
    "\n",
    "K-NN (k-nearest neighbors):\n",
    "\n",
    "Objective: K-NN is used for classification or regression tasks. It predicts the label or value of a data point based on the majority class or mean value of its k-nearest neighbors.\n",
    "\n",
    "Supervised Learning: K-NN is a supervised learning algorithm, meaning it requires labeled training data.\n",
    "\n",
    "Classification and Regression: It can be used for both classification and regression tasks, depending on the nature of the target variable.\n",
    "\n",
    "Instance-Based: It classifies a new data point by considering the labels of its k-nearest neighbors in the training set.\n",
    "\n",
    "\n",
    "\n",
    "\n",
    "Interference:\n",
    "\n",
    "K-Means is designed for unsupervised clustering, where the goal is to group similar data points together without predefined labels.\n",
    "K-NN, on the other hand, is a supervised algorithm used for making predictions based on the similarity of a data point to its labeled neighbors.\n",
    "The code you provided is related to K-Means clustering, where you are partitioning the data into clusters and analyzing the results.\n",
    "\n",
    "\n",
    "\n",
    "In summary, K-Means and K-NN serve different purposes: K-Means is for clustering, while K-NN is for classification or regression tasks based on labeled training data.\n",
    "\n",
    "\n",
    "\n",
    "\n"
   ]
  }
 ],
 "metadata": {
  "kernelspec": {
   "display_name": "Python 3 (ipykernel)",
   "language": "python",
   "name": "python3"
  },
  "language_info": {
   "codemirror_mode": {
    "name": "ipython",
    "version": 3
   },
   "file_extension": ".py",
   "mimetype": "text/x-python",
   "name": "python",
   "nbconvert_exporter": "python",
   "pygments_lexer": "ipython3",
   "version": "3.11.5"
  }
 },
 "nbformat": 4,
 "nbformat_minor": 5
}
